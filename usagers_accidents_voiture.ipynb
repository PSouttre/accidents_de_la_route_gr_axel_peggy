{
 "cells": [
  {
   "cell_type": "markdown",
   "id": "f41585c0-29fe-4710-8a39-279d2a8a00fd",
   "metadata": {},
   "source": [
    "# BRIEF PREDICTION DE LA GRAVITE DES ACCIDENTS DE LA ROUTE"
   ]
  },
  {
   "cell_type": "code",
   "execution_count": null,
   "id": "05b7cbbd-19cb-4d80-bcbb-376f5b22d404",
   "metadata": {},
   "outputs": [],
   "source": []
  },
  {
   "cell_type": "markdown",
   "id": "c9a6ca1e-2475-4c7d-93b9-66914ca58294",
   "metadata": {},
   "source": [
    "## Import des librairies"
   ]
  },
  {
   "cell_type": "code",
   "execution_count": 4,
   "id": "8269f569-c834-44ab-8d98-146fb884743c",
   "metadata": {},
   "outputs": [],
   "source": [
    "import numpy as np\n",
    "import pandas as pd\n",
    "\n",
    "import plotly.express as px\n",
    "import matplotlib.pyplot as plt\n",
    "import seaborn as sns"
   ]
  },
  {
   "cell_type": "code",
   "execution_count": null,
   "id": "c29f10a7-624a-46f4-af94-eac62fd0c0c1",
   "metadata": {},
   "outputs": [],
   "source": []
  },
  {
   "cell_type": "markdown",
   "id": "58620fc9-a9c0-481d-9750-a2bce6e02d69",
   "metadata": {},
   "source": [
    "## Usagers"
   ]
  },
  {
   "cell_type": "markdown",
   "id": "2db49ad6-d9b1-4c43-814f-f183a75c26d5",
   "metadata": {},
   "source": [
    "### Import du jeu de données "
   ]
  },
  {
   "cell_type": "code",
   "execution_count": 7,
   "id": "164eb0d8-43c8-4e9b-a234-229daab0ce89",
   "metadata": {},
   "outputs": [],
   "source": [
    "df_usagers =pd.read_csv(\"usagers-2023.csv\", delimiter = ';', encoding = 'utf_8')"
   ]
  },
  {
   "cell_type": "code",
   "execution_count": 8,
   "id": "bdd287b1-c548-4b89-9d2c-25235fefebd2",
   "metadata": {},
   "outputs": [
    {
     "data": {
      "text/html": [
       "<div>\n",
       "<style scoped>\n",
       "    .dataframe tbody tr th:only-of-type {\n",
       "        vertical-align: middle;\n",
       "    }\n",
       "\n",
       "    .dataframe tbody tr th {\n",
       "        vertical-align: top;\n",
       "    }\n",
       "\n",
       "    .dataframe thead th {\n",
       "        text-align: right;\n",
       "    }\n",
       "</style>\n",
       "<table border=\"1\" class=\"dataframe\">\n",
       "  <thead>\n",
       "    <tr style=\"text-align: right;\">\n",
       "      <th></th>\n",
       "      <th>Num_Acc</th>\n",
       "      <th>id_usager</th>\n",
       "      <th>id_vehicule</th>\n",
       "      <th>num_veh</th>\n",
       "      <th>place</th>\n",
       "      <th>catu</th>\n",
       "      <th>grav</th>\n",
       "      <th>sexe</th>\n",
       "      <th>an_nais</th>\n",
       "      <th>trajet</th>\n",
       "      <th>secu1</th>\n",
       "      <th>secu2</th>\n",
       "      <th>secu3</th>\n",
       "      <th>locp</th>\n",
       "      <th>actp</th>\n",
       "      <th>etatp</th>\n",
       "    </tr>\n",
       "  </thead>\n",
       "  <tbody>\n",
       "    <tr>\n",
       "      <th>0</th>\n",
       "      <td>202300000001</td>\n",
       "      <td>203 851 184</td>\n",
       "      <td>155 680 557</td>\n",
       "      <td>A01</td>\n",
       "      <td>1</td>\n",
       "      <td>1</td>\n",
       "      <td>4</td>\n",
       "      <td>1</td>\n",
       "      <td>1978.0</td>\n",
       "      <td>5</td>\n",
       "      <td>2</td>\n",
       "      <td>0</td>\n",
       "      <td>-1</td>\n",
       "      <td>-1</td>\n",
       "      <td>-1</td>\n",
       "      <td>-1</td>\n",
       "    </tr>\n",
       "    <tr>\n",
       "      <th>1</th>\n",
       "      <td>202300000002</td>\n",
       "      <td>203 851 182</td>\n",
       "      <td>155 680 556</td>\n",
       "      <td>A01</td>\n",
       "      <td>1</td>\n",
       "      <td>1</td>\n",
       "      <td>1</td>\n",
       "      <td>2</td>\n",
       "      <td>1997.0</td>\n",
       "      <td>9</td>\n",
       "      <td>1</td>\n",
       "      <td>0</td>\n",
       "      <td>-1</td>\n",
       "      <td>-1</td>\n",
       "      <td>-1</td>\n",
       "      <td>-1</td>\n",
       "    </tr>\n",
       "    <tr>\n",
       "      <th>2</th>\n",
       "      <td>202300000002</td>\n",
       "      <td>203 851 183</td>\n",
       "      <td>155 680 556</td>\n",
       "      <td>A01</td>\n",
       "      <td>10</td>\n",
       "      <td>3</td>\n",
       "      <td>3</td>\n",
       "      <td>1</td>\n",
       "      <td>1997.0</td>\n",
       "      <td>9</td>\n",
       "      <td>0</td>\n",
       "      <td>-1</td>\n",
       "      <td>-1</td>\n",
       "      <td>2</td>\n",
       "      <td>3</td>\n",
       "      <td>1</td>\n",
       "    </tr>\n",
       "    <tr>\n",
       "      <th>3</th>\n",
       "      <td>202300000003</td>\n",
       "      <td>203 851 180</td>\n",
       "      <td>155 680 554</td>\n",
       "      <td>B01</td>\n",
       "      <td>1</td>\n",
       "      <td>1</td>\n",
       "      <td>3</td>\n",
       "      <td>1</td>\n",
       "      <td>1987.0</td>\n",
       "      <td>0</td>\n",
       "      <td>2</td>\n",
       "      <td>6</td>\n",
       "      <td>0</td>\n",
       "      <td>0</td>\n",
       "      <td>0</td>\n",
       "      <td>-1</td>\n",
       "    </tr>\n",
       "    <tr>\n",
       "      <th>4</th>\n",
       "      <td>202300000003</td>\n",
       "      <td>203 851 181</td>\n",
       "      <td>155 680 555</td>\n",
       "      <td>A01</td>\n",
       "      <td>1</td>\n",
       "      <td>1</td>\n",
       "      <td>1</td>\n",
       "      <td>2</td>\n",
       "      <td>1984.0</td>\n",
       "      <td>0</td>\n",
       "      <td>1</td>\n",
       "      <td>0</td>\n",
       "      <td>0</td>\n",
       "      <td>0</td>\n",
       "      <td>0</td>\n",
       "      <td>-1</td>\n",
       "    </tr>\n",
       "    <tr>\n",
       "      <th>...</th>\n",
       "      <td>...</td>\n",
       "      <td>...</td>\n",
       "      <td>...</td>\n",
       "      <td>...</td>\n",
       "      <td>...</td>\n",
       "      <td>...</td>\n",
       "      <td>...</td>\n",
       "      <td>...</td>\n",
       "      <td>...</td>\n",
       "      <td>...</td>\n",
       "      <td>...</td>\n",
       "      <td>...</td>\n",
       "      <td>...</td>\n",
       "      <td>...</td>\n",
       "      <td>...</td>\n",
       "      <td>...</td>\n",
       "    </tr>\n",
       "    <tr>\n",
       "      <th>125784</th>\n",
       "      <td>202300054821</td>\n",
       "      <td>203 720 720</td>\n",
       "      <td>155 583 346</td>\n",
       "      <td>A01</td>\n",
       "      <td>1</td>\n",
       "      <td>1</td>\n",
       "      <td>4</td>\n",
       "      <td>1</td>\n",
       "      <td>1971.0</td>\n",
       "      <td>1</td>\n",
       "      <td>2</td>\n",
       "      <td>0</td>\n",
       "      <td>-1</td>\n",
       "      <td>0</td>\n",
       "      <td>0</td>\n",
       "      <td>-1</td>\n",
       "    </tr>\n",
       "    <tr>\n",
       "      <th>125785</th>\n",
       "      <td>202300054821</td>\n",
       "      <td>203 720 721</td>\n",
       "      <td>155 583 347</td>\n",
       "      <td>B01</td>\n",
       "      <td>1</td>\n",
       "      <td>1</td>\n",
       "      <td>1</td>\n",
       "      <td>2</td>\n",
       "      <td>1968.0</td>\n",
       "      <td>1</td>\n",
       "      <td>1</td>\n",
       "      <td>0</td>\n",
       "      <td>-1</td>\n",
       "      <td>0</td>\n",
       "      <td>0</td>\n",
       "      <td>-1</td>\n",
       "    </tr>\n",
       "    <tr>\n",
       "      <th>125786</th>\n",
       "      <td>202300054822</td>\n",
       "      <td>203 720 717</td>\n",
       "      <td>155 583 344</td>\n",
       "      <td>A01</td>\n",
       "      <td>2</td>\n",
       "      <td>2</td>\n",
       "      <td>1</td>\n",
       "      <td>2</td>\n",
       "      <td>2003.0</td>\n",
       "      <td>2</td>\n",
       "      <td>1</td>\n",
       "      <td>-1</td>\n",
       "      <td>-1</td>\n",
       "      <td>-1</td>\n",
       "      <td>-1</td>\n",
       "      <td>-1</td>\n",
       "    </tr>\n",
       "    <tr>\n",
       "      <th>125787</th>\n",
       "      <td>202300054822</td>\n",
       "      <td>203 720 718</td>\n",
       "      <td>155 583 344</td>\n",
       "      <td>A01</td>\n",
       "      <td>1</td>\n",
       "      <td>1</td>\n",
       "      <td>1</td>\n",
       "      <td>2</td>\n",
       "      <td>2002.0</td>\n",
       "      <td>1</td>\n",
       "      <td>1</td>\n",
       "      <td>-1</td>\n",
       "      <td>-1</td>\n",
       "      <td>-1</td>\n",
       "      <td>-1</td>\n",
       "      <td>-1</td>\n",
       "    </tr>\n",
       "    <tr>\n",
       "      <th>125788</th>\n",
       "      <td>202300054822</td>\n",
       "      <td>203 720 719</td>\n",
       "      <td>155 583 345</td>\n",
       "      <td>B01</td>\n",
       "      <td>1</td>\n",
       "      <td>1</td>\n",
       "      <td>3</td>\n",
       "      <td>2</td>\n",
       "      <td>1995.0</td>\n",
       "      <td>1</td>\n",
       "      <td>2</td>\n",
       "      <td>-1</td>\n",
       "      <td>-1</td>\n",
       "      <td>-1</td>\n",
       "      <td>-1</td>\n",
       "      <td>-1</td>\n",
       "    </tr>\n",
       "  </tbody>\n",
       "</table>\n",
       "<p>125789 rows × 16 columns</p>\n",
       "</div>"
      ],
      "text/plain": [
       "             Num_Acc    id_usager  id_vehicule num_veh  place  catu  grav  \\\n",
       "0       202300000001  203 851 184  155 680 557     A01      1     1     4   \n",
       "1       202300000002  203 851 182  155 680 556     A01      1     1     1   \n",
       "2       202300000002  203 851 183  155 680 556     A01     10     3     3   \n",
       "3       202300000003  203 851 180  155 680 554     B01      1     1     3   \n",
       "4       202300000003  203 851 181  155 680 555     A01      1     1     1   \n",
       "...              ...          ...          ...     ...    ...   ...   ...   \n",
       "125784  202300054821  203 720 720  155 583 346     A01      1     1     4   \n",
       "125785  202300054821  203 720 721  155 583 347     B01      1     1     1   \n",
       "125786  202300054822  203 720 717  155 583 344     A01      2     2     1   \n",
       "125787  202300054822  203 720 718  155 583 344     A01      1     1     1   \n",
       "125788  202300054822  203 720 719  155 583 345     B01      1     1     3   \n",
       "\n",
       "        sexe  an_nais  trajet  secu1  secu2  secu3  locp actp  etatp  \n",
       "0          1   1978.0       5      2      0     -1    -1   -1     -1  \n",
       "1          2   1997.0       9      1      0     -1    -1   -1     -1  \n",
       "2          1   1997.0       9      0     -1     -1     2    3      1  \n",
       "3          1   1987.0       0      2      6      0     0    0     -1  \n",
       "4          2   1984.0       0      1      0      0     0    0     -1  \n",
       "...      ...      ...     ...    ...    ...    ...   ...  ...    ...  \n",
       "125784     1   1971.0       1      2      0     -1     0    0     -1  \n",
       "125785     2   1968.0       1      1      0     -1     0    0     -1  \n",
       "125786     2   2003.0       2      1     -1     -1    -1   -1     -1  \n",
       "125787     2   2002.0       1      1     -1     -1    -1   -1     -1  \n",
       "125788     2   1995.0       1      2     -1     -1    -1   -1     -1  \n",
       "\n",
       "[125789 rows x 16 columns]"
      ]
     },
     "execution_count": 8,
     "metadata": {},
     "output_type": "execute_result"
    }
   ],
   "source": [
    "df_usagers"
   ]
  },
  {
   "cell_type": "code",
   "execution_count": null,
   "id": "b978577a-4640-4764-8235-e0fb104a9599",
   "metadata": {},
   "outputs": [],
   "source": []
  },
  {
   "cell_type": "code",
   "execution_count": 9,
   "id": "e0037910-e9a0-4cfe-996e-3cfb8b7df827",
   "metadata": {},
   "outputs": [
    {
     "data": {
      "text/html": [
       "<div>\n",
       "<style scoped>\n",
       "    .dataframe tbody tr th:only-of-type {\n",
       "        vertical-align: middle;\n",
       "    }\n",
       "\n",
       "    .dataframe tbody tr th {\n",
       "        vertical-align: top;\n",
       "    }\n",
       "\n",
       "    .dataframe thead th {\n",
       "        text-align: right;\n",
       "    }\n",
       "</style>\n",
       "<table border=\"1\" class=\"dataframe\">\n",
       "  <thead>\n",
       "    <tr style=\"text-align: right;\">\n",
       "      <th></th>\n",
       "      <th>Num_Acc</th>\n",
       "      <th>id_usager</th>\n",
       "      <th>id_vehicule</th>\n",
       "      <th>num_veh</th>\n",
       "      <th>place</th>\n",
       "      <th>catu</th>\n",
       "      <th>grav</th>\n",
       "      <th>sexe</th>\n",
       "      <th>an_nais</th>\n",
       "      <th>trajet</th>\n",
       "      <th>secu1</th>\n",
       "      <th>secu2</th>\n",
       "      <th>secu3</th>\n",
       "      <th>locp</th>\n",
       "      <th>actp</th>\n",
       "      <th>etatp</th>\n",
       "    </tr>\n",
       "  </thead>\n",
       "  <tbody>\n",
       "    <tr>\n",
       "      <th>0</th>\n",
       "      <td>202300000001</td>\n",
       "      <td>203 851 184</td>\n",
       "      <td>155 680 557</td>\n",
       "      <td>A01</td>\n",
       "      <td>1</td>\n",
       "      <td>1</td>\n",
       "      <td>4</td>\n",
       "      <td>1</td>\n",
       "      <td>1978.0</td>\n",
       "      <td>5</td>\n",
       "      <td>2</td>\n",
       "      <td>0</td>\n",
       "      <td>-1</td>\n",
       "      <td>-1</td>\n",
       "      <td>-1</td>\n",
       "      <td>-1</td>\n",
       "    </tr>\n",
       "    <tr>\n",
       "      <th>1</th>\n",
       "      <td>202300000002</td>\n",
       "      <td>203 851 182</td>\n",
       "      <td>155 680 556</td>\n",
       "      <td>A01</td>\n",
       "      <td>1</td>\n",
       "      <td>1</td>\n",
       "      <td>1</td>\n",
       "      <td>2</td>\n",
       "      <td>1997.0</td>\n",
       "      <td>9</td>\n",
       "      <td>1</td>\n",
       "      <td>0</td>\n",
       "      <td>-1</td>\n",
       "      <td>-1</td>\n",
       "      <td>-1</td>\n",
       "      <td>-1</td>\n",
       "    </tr>\n",
       "    <tr>\n",
       "      <th>2</th>\n",
       "      <td>202300000002</td>\n",
       "      <td>203 851 183</td>\n",
       "      <td>155 680 556</td>\n",
       "      <td>A01</td>\n",
       "      <td>10</td>\n",
       "      <td>3</td>\n",
       "      <td>3</td>\n",
       "      <td>1</td>\n",
       "      <td>1997.0</td>\n",
       "      <td>9</td>\n",
       "      <td>0</td>\n",
       "      <td>-1</td>\n",
       "      <td>-1</td>\n",
       "      <td>2</td>\n",
       "      <td>3</td>\n",
       "      <td>1</td>\n",
       "    </tr>\n",
       "    <tr>\n",
       "      <th>3</th>\n",
       "      <td>202300000003</td>\n",
       "      <td>203 851 180</td>\n",
       "      <td>155 680 554</td>\n",
       "      <td>B01</td>\n",
       "      <td>1</td>\n",
       "      <td>1</td>\n",
       "      <td>3</td>\n",
       "      <td>1</td>\n",
       "      <td>1987.0</td>\n",
       "      <td>0</td>\n",
       "      <td>2</td>\n",
       "      <td>6</td>\n",
       "      <td>0</td>\n",
       "      <td>0</td>\n",
       "      <td>0</td>\n",
       "      <td>-1</td>\n",
       "    </tr>\n",
       "    <tr>\n",
       "      <th>4</th>\n",
       "      <td>202300000003</td>\n",
       "      <td>203 851 181</td>\n",
       "      <td>155 680 555</td>\n",
       "      <td>A01</td>\n",
       "      <td>1</td>\n",
       "      <td>1</td>\n",
       "      <td>1</td>\n",
       "      <td>2</td>\n",
       "      <td>1984.0</td>\n",
       "      <td>0</td>\n",
       "      <td>1</td>\n",
       "      <td>0</td>\n",
       "      <td>0</td>\n",
       "      <td>0</td>\n",
       "      <td>0</td>\n",
       "      <td>-1</td>\n",
       "    </tr>\n",
       "    <tr>\n",
       "      <th>5</th>\n",
       "      <td>202300000004</td>\n",
       "      <td>203 851 175</td>\n",
       "      <td>155 680 551</td>\n",
       "      <td>B01</td>\n",
       "      <td>2</td>\n",
       "      <td>2</td>\n",
       "      <td>1</td>\n",
       "      <td>2</td>\n",
       "      <td>2001.0</td>\n",
       "      <td>1</td>\n",
       "      <td>1</td>\n",
       "      <td>0</td>\n",
       "      <td>-1</td>\n",
       "      <td>-1</td>\n",
       "      <td>-1</td>\n",
       "      <td>-1</td>\n",
       "    </tr>\n",
       "    <tr>\n",
       "      <th>6</th>\n",
       "      <td>202300000004</td>\n",
       "      <td>203 851 176</td>\n",
       "      <td>155 680 551</td>\n",
       "      <td>B01</td>\n",
       "      <td>1</td>\n",
       "      <td>1</td>\n",
       "      <td>1</td>\n",
       "      <td>2</td>\n",
       "      <td>1995.0</td>\n",
       "      <td>1</td>\n",
       "      <td>1</td>\n",
       "      <td>0</td>\n",
       "      <td>-1</td>\n",
       "      <td>-1</td>\n",
       "      <td>-1</td>\n",
       "      <td>-1</td>\n",
       "    </tr>\n",
       "    <tr>\n",
       "      <th>7</th>\n",
       "      <td>202300000004</td>\n",
       "      <td>203 851 177</td>\n",
       "      <td>155 680 552</td>\n",
       "      <td>C01</td>\n",
       "      <td>1</td>\n",
       "      <td>1</td>\n",
       "      <td>1</td>\n",
       "      <td>1</td>\n",
       "      <td>1968.0</td>\n",
       "      <td>9</td>\n",
       "      <td>1</td>\n",
       "      <td>0</td>\n",
       "      <td>-1</td>\n",
       "      <td>-1</td>\n",
       "      <td>-1</td>\n",
       "      <td>-1</td>\n",
       "    </tr>\n",
       "    <tr>\n",
       "      <th>8</th>\n",
       "      <td>202300000004</td>\n",
       "      <td>203 851 178</td>\n",
       "      <td>155 680 552</td>\n",
       "      <td>C01</td>\n",
       "      <td>2</td>\n",
       "      <td>2</td>\n",
       "      <td>4</td>\n",
       "      <td>1</td>\n",
       "      <td>1956.0</td>\n",
       "      <td>0</td>\n",
       "      <td>1</td>\n",
       "      <td>0</td>\n",
       "      <td>-1</td>\n",
       "      <td>-1</td>\n",
       "      <td>-1</td>\n",
       "      <td>-1</td>\n",
       "    </tr>\n",
       "    <tr>\n",
       "      <th>9</th>\n",
       "      <td>202300000004</td>\n",
       "      <td>203 851 179</td>\n",
       "      <td>155 680 553</td>\n",
       "      <td>A01</td>\n",
       "      <td>1</td>\n",
       "      <td>1</td>\n",
       "      <td>1</td>\n",
       "      <td>1</td>\n",
       "      <td>1985.0</td>\n",
       "      <td>1</td>\n",
       "      <td>1</td>\n",
       "      <td>0</td>\n",
       "      <td>-1</td>\n",
       "      <td>-1</td>\n",
       "      <td>-1</td>\n",
       "      <td>-1</td>\n",
       "    </tr>\n",
       "    <tr>\n",
       "      <th>10</th>\n",
       "      <td>202300000005</td>\n",
       "      <td>203 851 173</td>\n",
       "      <td>155 680 549</td>\n",
       "      <td>B01</td>\n",
       "      <td>1</td>\n",
       "      <td>1</td>\n",
       "      <td>4</td>\n",
       "      <td>2</td>\n",
       "      <td>2001.0</td>\n",
       "      <td>0</td>\n",
       "      <td>1</td>\n",
       "      <td>0</td>\n",
       "      <td>-1</td>\n",
       "      <td>-1</td>\n",
       "      <td>-1</td>\n",
       "      <td>-1</td>\n",
       "    </tr>\n",
       "    <tr>\n",
       "      <th>11</th>\n",
       "      <td>202300000005</td>\n",
       "      <td>203 851 174</td>\n",
       "      <td>155 680 550</td>\n",
       "      <td>A01</td>\n",
       "      <td>1</td>\n",
       "      <td>1</td>\n",
       "      <td>1</td>\n",
       "      <td>1</td>\n",
       "      <td>2001.0</td>\n",
       "      <td>3</td>\n",
       "      <td>1</td>\n",
       "      <td>0</td>\n",
       "      <td>-1</td>\n",
       "      <td>-1</td>\n",
       "      <td>-1</td>\n",
       "      <td>-1</td>\n",
       "    </tr>\n",
       "    <tr>\n",
       "      <th>12</th>\n",
       "      <td>202300000006</td>\n",
       "      <td>203 851 171</td>\n",
       "      <td>155 680 548</td>\n",
       "      <td>A01</td>\n",
       "      <td>10</td>\n",
       "      <td>3</td>\n",
       "      <td>4</td>\n",
       "      <td>1</td>\n",
       "      <td>2003.0</td>\n",
       "      <td>9</td>\n",
       "      <td>0</td>\n",
       "      <td>-1</td>\n",
       "      <td>-1</td>\n",
       "      <td>3</td>\n",
       "      <td>3</td>\n",
       "      <td>1</td>\n",
       "    </tr>\n",
       "    <tr>\n",
       "      <th>13</th>\n",
       "      <td>202300000006</td>\n",
       "      <td>203 851 172</td>\n",
       "      <td>155 680 548</td>\n",
       "      <td>A01</td>\n",
       "      <td>1</td>\n",
       "      <td>1</td>\n",
       "      <td>1</td>\n",
       "      <td>1</td>\n",
       "      <td>1962.0</td>\n",
       "      <td>5</td>\n",
       "      <td>1</td>\n",
       "      <td>0</td>\n",
       "      <td>-1</td>\n",
       "      <td>-1</td>\n",
       "      <td>-1</td>\n",
       "      <td>-1</td>\n",
       "    </tr>\n",
       "    <tr>\n",
       "      <th>14</th>\n",
       "      <td>202300000007</td>\n",
       "      <td>203 851 167</td>\n",
       "      <td>155 680 545</td>\n",
       "      <td>C01</td>\n",
       "      <td>1</td>\n",
       "      <td>1</td>\n",
       "      <td>1</td>\n",
       "      <td>1</td>\n",
       "      <td>1988.0</td>\n",
       "      <td>0</td>\n",
       "      <td>1</td>\n",
       "      <td>0</td>\n",
       "      <td>-1</td>\n",
       "      <td>-1</td>\n",
       "      <td>-1</td>\n",
       "      <td>-1</td>\n",
       "    </tr>\n",
       "    <tr>\n",
       "      <th>15</th>\n",
       "      <td>202300000007</td>\n",
       "      <td>203 851 168</td>\n",
       "      <td>155 680 546</td>\n",
       "      <td>A01</td>\n",
       "      <td>4</td>\n",
       "      <td>2</td>\n",
       "      <td>4</td>\n",
       "      <td>2</td>\n",
       "      <td>1975.0</td>\n",
       "      <td>5</td>\n",
       "      <td>1</td>\n",
       "      <td>0</td>\n",
       "      <td>-1</td>\n",
       "      <td>-1</td>\n",
       "      <td>-1</td>\n",
       "      <td>-1</td>\n",
       "    </tr>\n",
       "    <tr>\n",
       "      <th>16</th>\n",
       "      <td>202300000007</td>\n",
       "      <td>203 851 169</td>\n",
       "      <td>155 680 546</td>\n",
       "      <td>A01</td>\n",
       "      <td>1</td>\n",
       "      <td>1</td>\n",
       "      <td>1</td>\n",
       "      <td>1</td>\n",
       "      <td>1968.0</td>\n",
       "      <td>5</td>\n",
       "      <td>1</td>\n",
       "      <td>0</td>\n",
       "      <td>-1</td>\n",
       "      <td>-1</td>\n",
       "      <td>-1</td>\n",
       "      <td>-1</td>\n",
       "    </tr>\n",
       "    <tr>\n",
       "      <th>17</th>\n",
       "      <td>202300000007</td>\n",
       "      <td>203 851 170</td>\n",
       "      <td>155 680 547</td>\n",
       "      <td>B01</td>\n",
       "      <td>1</td>\n",
       "      <td>1</td>\n",
       "      <td>1</td>\n",
       "      <td>2</td>\n",
       "      <td>1979.0</td>\n",
       "      <td>0</td>\n",
       "      <td>1</td>\n",
       "      <td>0</td>\n",
       "      <td>-1</td>\n",
       "      <td>-1</td>\n",
       "      <td>-1</td>\n",
       "      <td>-1</td>\n",
       "    </tr>\n",
       "    <tr>\n",
       "      <th>18</th>\n",
       "      <td>202300000008</td>\n",
       "      <td>203 851 164</td>\n",
       "      <td>155 680 543</td>\n",
       "      <td>B01</td>\n",
       "      <td>4</td>\n",
       "      <td>2</td>\n",
       "      <td>4</td>\n",
       "      <td>2</td>\n",
       "      <td>2020.0</td>\n",
       "      <td>0</td>\n",
       "      <td>1</td>\n",
       "      <td>8</td>\n",
       "      <td>-1</td>\n",
       "      <td>-1</td>\n",
       "      <td>-1</td>\n",
       "      <td>-1</td>\n",
       "    </tr>\n",
       "    <tr>\n",
       "      <th>19</th>\n",
       "      <td>202300000008</td>\n",
       "      <td>203 851 165</td>\n",
       "      <td>155 680 543</td>\n",
       "      <td>B01</td>\n",
       "      <td>1</td>\n",
       "      <td>1</td>\n",
       "      <td>1</td>\n",
       "      <td>1</td>\n",
       "      <td>1980.0</td>\n",
       "      <td>0</td>\n",
       "      <td>1</td>\n",
       "      <td>0</td>\n",
       "      <td>-1</td>\n",
       "      <td>-1</td>\n",
       "      <td>-1</td>\n",
       "      <td>-1</td>\n",
       "    </tr>\n",
       "  </tbody>\n",
       "</table>\n",
       "</div>"
      ],
      "text/plain": [
       "         Num_Acc    id_usager  id_vehicule num_veh  place  catu  grav  sexe  \\\n",
       "0   202300000001  203 851 184  155 680 557     A01      1     1     4     1   \n",
       "1   202300000002  203 851 182  155 680 556     A01      1     1     1     2   \n",
       "2   202300000002  203 851 183  155 680 556     A01     10     3     3     1   \n",
       "3   202300000003  203 851 180  155 680 554     B01      1     1     3     1   \n",
       "4   202300000003  203 851 181  155 680 555     A01      1     1     1     2   \n",
       "5   202300000004  203 851 175  155 680 551     B01      2     2     1     2   \n",
       "6   202300000004  203 851 176  155 680 551     B01      1     1     1     2   \n",
       "7   202300000004  203 851 177  155 680 552     C01      1     1     1     1   \n",
       "8   202300000004  203 851 178  155 680 552     C01      2     2     4     1   \n",
       "9   202300000004  203 851 179  155 680 553     A01      1     1     1     1   \n",
       "10  202300000005  203 851 173  155 680 549     B01      1     1     4     2   \n",
       "11  202300000005  203 851 174  155 680 550     A01      1     1     1     1   \n",
       "12  202300000006  203 851 171  155 680 548     A01     10     3     4     1   \n",
       "13  202300000006  203 851 172  155 680 548     A01      1     1     1     1   \n",
       "14  202300000007  203 851 167  155 680 545     C01      1     1     1     1   \n",
       "15  202300000007  203 851 168  155 680 546     A01      4     2     4     2   \n",
       "16  202300000007  203 851 169  155 680 546     A01      1     1     1     1   \n",
       "17  202300000007  203 851 170  155 680 547     B01      1     1     1     2   \n",
       "18  202300000008  203 851 164  155 680 543     B01      4     2     4     2   \n",
       "19  202300000008  203 851 165  155 680 543     B01      1     1     1     1   \n",
       "\n",
       "    an_nais  trajet  secu1  secu2  secu3  locp actp  etatp  \n",
       "0    1978.0       5      2      0     -1    -1   -1     -1  \n",
       "1    1997.0       9      1      0     -1    -1   -1     -1  \n",
       "2    1997.0       9      0     -1     -1     2    3      1  \n",
       "3    1987.0       0      2      6      0     0    0     -1  \n",
       "4    1984.0       0      1      0      0     0    0     -1  \n",
       "5    2001.0       1      1      0     -1    -1   -1     -1  \n",
       "6    1995.0       1      1      0     -1    -1   -1     -1  \n",
       "7    1968.0       9      1      0     -1    -1   -1     -1  \n",
       "8    1956.0       0      1      0     -1    -1   -1     -1  \n",
       "9    1985.0       1      1      0     -1    -1   -1     -1  \n",
       "10   2001.0       0      1      0     -1    -1   -1     -1  \n",
       "11   2001.0       3      1      0     -1    -1   -1     -1  \n",
       "12   2003.0       9      0     -1     -1     3    3      1  \n",
       "13   1962.0       5      1      0     -1    -1   -1     -1  \n",
       "14   1988.0       0      1      0     -1    -1   -1     -1  \n",
       "15   1975.0       5      1      0     -1    -1   -1     -1  \n",
       "16   1968.0       5      1      0     -1    -1   -1     -1  \n",
       "17   1979.0       0      1      0     -1    -1   -1     -1  \n",
       "18   2020.0       0      1      8     -1    -1   -1     -1  \n",
       "19   1980.0       0      1      0     -1    -1   -1     -1  "
      ]
     },
     "execution_count": 9,
     "metadata": {},
     "output_type": "execute_result"
    }
   ],
   "source": [
    "df_usagers.head(20)"
   ]
  },
  {
   "cell_type": "code",
   "execution_count": null,
   "id": "1acac5e8-7e89-4b90-8f92-0a0c1b6d8314",
   "metadata": {},
   "outputs": [],
   "source": []
  },
  {
   "cell_type": "code",
   "execution_count": 10,
   "id": "7b046394-d7cb-457b-ab84-0840b9dea1d6",
   "metadata": {},
   "outputs": [
    {
     "name": "stdout",
     "output_type": "stream",
     "text": [
      "<class 'pandas.core.frame.DataFrame'>\n",
      "RangeIndex: 125789 entries, 0 to 125788\n",
      "Data columns (total 16 columns):\n",
      " #   Column       Non-Null Count   Dtype  \n",
      "---  ------       --------------   -----  \n",
      " 0   Num_Acc      125789 non-null  int64  \n",
      " 1   id_usager    125789 non-null  object \n",
      " 2   id_vehicule  125789 non-null  object \n",
      " 3   num_veh      125789 non-null  object \n",
      " 4   place        125789 non-null  int64  \n",
      " 5   catu         125789 non-null  int64  \n",
      " 6   grav         125789 non-null  int64  \n",
      " 7   sexe         125789 non-null  int64  \n",
      " 8   an_nais      123191 non-null  float64\n",
      " 9   trajet       125789 non-null  int64  \n",
      " 10  secu1        125789 non-null  int64  \n",
      " 11  secu2        125789 non-null  int64  \n",
      " 12  secu3        125789 non-null  int64  \n",
      " 13  locp         125789 non-null  int64  \n",
      " 14  actp         125789 non-null  object \n",
      " 15  etatp        125789 non-null  int64  \n",
      "dtypes: float64(1), int64(11), object(4)\n",
      "memory usage: 15.4+ MB\n"
     ]
    }
   ],
   "source": [
    "df_usagers.info()"
   ]
  },
  {
   "cell_type": "code",
   "execution_count": null,
   "id": "f0c7dcd1-ee17-47b6-b9f8-c089bf4933d0",
   "metadata": {},
   "outputs": [],
   "source": []
  },
  {
   "cell_type": "code",
   "execution_count": 11,
   "id": "7135cfc2-6bb9-42f7-ae02-5b8f885006d5",
   "metadata": {},
   "outputs": [
    {
     "data": {
      "text/html": [
       "<div>\n",
       "<style scoped>\n",
       "    .dataframe tbody tr th:only-of-type {\n",
       "        vertical-align: middle;\n",
       "    }\n",
       "\n",
       "    .dataframe tbody tr th {\n",
       "        vertical-align: top;\n",
       "    }\n",
       "\n",
       "    .dataframe thead th {\n",
       "        text-align: right;\n",
       "    }\n",
       "</style>\n",
       "<table border=\"1\" class=\"dataframe\">\n",
       "  <thead>\n",
       "    <tr style=\"text-align: right;\">\n",
       "      <th></th>\n",
       "      <th>Num_Acc</th>\n",
       "      <th>place</th>\n",
       "      <th>catu</th>\n",
       "      <th>grav</th>\n",
       "      <th>sexe</th>\n",
       "      <th>an_nais</th>\n",
       "      <th>trajet</th>\n",
       "      <th>secu1</th>\n",
       "      <th>secu2</th>\n",
       "      <th>secu3</th>\n",
       "      <th>locp</th>\n",
       "      <th>etatp</th>\n",
       "    </tr>\n",
       "  </thead>\n",
       "  <tbody>\n",
       "    <tr>\n",
       "      <th>count</th>\n",
       "      <td>1.257890e+05</td>\n",
       "      <td>125789.000000</td>\n",
       "      <td>125789.000000</td>\n",
       "      <td>125789.000000</td>\n",
       "      <td>125789.000000</td>\n",
       "      <td>123191.000000</td>\n",
       "      <td>125789.000000</td>\n",
       "      <td>125789.000000</td>\n",
       "      <td>125789.000000</td>\n",
       "      <td>125789.000000</td>\n",
       "      <td>125789.000000</td>\n",
       "      <td>125789.000000</td>\n",
       "    </tr>\n",
       "    <tr>\n",
       "      <th>mean</th>\n",
       "      <td>2.023000e+11</td>\n",
       "      <td>2.091646</td>\n",
       "      <td>1.332684</td>\n",
       "      <td>2.514544</td>\n",
       "      <td>1.274134</td>\n",
       "      <td>1984.252023</td>\n",
       "      <td>3.128692</td>\n",
       "      <td>1.932323</td>\n",
       "      <td>0.902885</td>\n",
       "      <td>-0.885284</td>\n",
       "      <td>-0.236046</td>\n",
       "      <td>-0.816232</td>\n",
       "    </tr>\n",
       "    <tr>\n",
       "      <th>std</th>\n",
       "      <td>1.582901e+04</td>\n",
       "      <td>2.582452</td>\n",
       "      <td>0.611056</td>\n",
       "      <td>1.377953</td>\n",
       "      <td>0.561198</td>\n",
       "      <td>19.099389</td>\n",
       "      <td>2.754842</td>\n",
       "      <td>2.371647</td>\n",
       "      <td>2.980147</td>\n",
       "      <td>1.004342</td>\n",
       "      <td>1.279765</td>\n",
       "      <td>0.640256</td>\n",
       "    </tr>\n",
       "    <tr>\n",
       "      <th>min</th>\n",
       "      <td>2.023000e+11</td>\n",
       "      <td>-1.000000</td>\n",
       "      <td>1.000000</td>\n",
       "      <td>-1.000000</td>\n",
       "      <td>-1.000000</td>\n",
       "      <td>1913.000000</td>\n",
       "      <td>-1.000000</td>\n",
       "      <td>-1.000000</td>\n",
       "      <td>-1.000000</td>\n",
       "      <td>-1.000000</td>\n",
       "      <td>-1.000000</td>\n",
       "      <td>-1.000000</td>\n",
       "    </tr>\n",
       "    <tr>\n",
       "      <th>25%</th>\n",
       "      <td>2.023000e+11</td>\n",
       "      <td>1.000000</td>\n",
       "      <td>1.000000</td>\n",
       "      <td>1.000000</td>\n",
       "      <td>1.000000</td>\n",
       "      <td>1971.000000</td>\n",
       "      <td>0.000000</td>\n",
       "      <td>1.000000</td>\n",
       "      <td>-1.000000</td>\n",
       "      <td>-1.000000</td>\n",
       "      <td>-1.000000</td>\n",
       "      <td>-1.000000</td>\n",
       "    </tr>\n",
       "    <tr>\n",
       "      <th>50%</th>\n",
       "      <td>2.023000e+11</td>\n",
       "      <td>1.000000</td>\n",
       "      <td>1.000000</td>\n",
       "      <td>3.000000</td>\n",
       "      <td>1.000000</td>\n",
       "      <td>1988.000000</td>\n",
       "      <td>4.000000</td>\n",
       "      <td>1.000000</td>\n",
       "      <td>0.000000</td>\n",
       "      <td>-1.000000</td>\n",
       "      <td>-1.000000</td>\n",
       "      <td>-1.000000</td>\n",
       "    </tr>\n",
       "    <tr>\n",
       "      <th>75%</th>\n",
       "      <td>2.023000e+11</td>\n",
       "      <td>2.000000</td>\n",
       "      <td>2.000000</td>\n",
       "      <td>4.000000</td>\n",
       "      <td>2.000000</td>\n",
       "      <td>2000.000000</td>\n",
       "      <td>5.000000</td>\n",
       "      <td>2.000000</td>\n",
       "      <td>0.000000</td>\n",
       "      <td>-1.000000</td>\n",
       "      <td>0.000000</td>\n",
       "      <td>-1.000000</td>\n",
       "    </tr>\n",
       "    <tr>\n",
       "      <th>max</th>\n",
       "      <td>2.023001e+11</td>\n",
       "      <td>10.000000</td>\n",
       "      <td>3.000000</td>\n",
       "      <td>4.000000</td>\n",
       "      <td>2.000000</td>\n",
       "      <td>2023.000000</td>\n",
       "      <td>9.000000</td>\n",
       "      <td>9.000000</td>\n",
       "      <td>9.000000</td>\n",
       "      <td>9.000000</td>\n",
       "      <td>9.000000</td>\n",
       "      <td>3.000000</td>\n",
       "    </tr>\n",
       "  </tbody>\n",
       "</table>\n",
       "</div>"
      ],
      "text/plain": [
       "            Num_Acc          place           catu           grav  \\\n",
       "count  1.257890e+05  125789.000000  125789.000000  125789.000000   \n",
       "mean   2.023000e+11       2.091646       1.332684       2.514544   \n",
       "std    1.582901e+04       2.582452       0.611056       1.377953   \n",
       "min    2.023000e+11      -1.000000       1.000000      -1.000000   \n",
       "25%    2.023000e+11       1.000000       1.000000       1.000000   \n",
       "50%    2.023000e+11       1.000000       1.000000       3.000000   \n",
       "75%    2.023000e+11       2.000000       2.000000       4.000000   \n",
       "max    2.023001e+11      10.000000       3.000000       4.000000   \n",
       "\n",
       "                sexe        an_nais         trajet          secu1  \\\n",
       "count  125789.000000  123191.000000  125789.000000  125789.000000   \n",
       "mean        1.274134    1984.252023       3.128692       1.932323   \n",
       "std         0.561198      19.099389       2.754842       2.371647   \n",
       "min        -1.000000    1913.000000      -1.000000      -1.000000   \n",
       "25%         1.000000    1971.000000       0.000000       1.000000   \n",
       "50%         1.000000    1988.000000       4.000000       1.000000   \n",
       "75%         2.000000    2000.000000       5.000000       2.000000   \n",
       "max         2.000000    2023.000000       9.000000       9.000000   \n",
       "\n",
       "               secu2          secu3           locp          etatp  \n",
       "count  125789.000000  125789.000000  125789.000000  125789.000000  \n",
       "mean        0.902885      -0.885284      -0.236046      -0.816232  \n",
       "std         2.980147       1.004342       1.279765       0.640256  \n",
       "min        -1.000000      -1.000000      -1.000000      -1.000000  \n",
       "25%        -1.000000      -1.000000      -1.000000      -1.000000  \n",
       "50%         0.000000      -1.000000      -1.000000      -1.000000  \n",
       "75%         0.000000      -1.000000       0.000000      -1.000000  \n",
       "max         9.000000       9.000000       9.000000       3.000000  "
      ]
     },
     "execution_count": 11,
     "metadata": {},
     "output_type": "execute_result"
    }
   ],
   "source": [
    "df_usagers.describe()"
   ]
  },
  {
   "cell_type": "code",
   "execution_count": 12,
   "id": "bfdcd2b5-a7a9-468d-95ff-e8749c9129ba",
   "metadata": {},
   "outputs": [
    {
     "data": {
      "text/plain": [
       "Num_Acc           0\n",
       "id_usager         0\n",
       "id_vehicule       0\n",
       "num_veh           0\n",
       "place             0\n",
       "catu              0\n",
       "grav              0\n",
       "sexe              0\n",
       "an_nais        2598\n",
       "trajet            0\n",
       "secu1             0\n",
       "secu2             0\n",
       "secu3             0\n",
       "locp              0\n",
       "actp              0\n",
       "etatp             0\n",
       "dtype: int64"
      ]
     },
     "execution_count": 12,
     "metadata": {},
     "output_type": "execute_result"
    }
   ],
   "source": [
    "df_usagers.isnull().sum()"
   ]
  },
  {
   "cell_type": "code",
   "execution_count": 13,
   "id": "0317aed8-c389-4e5e-8e09-a397d23716b0",
   "metadata": {},
   "outputs": [],
   "source": [
    "df_usagers = df_usagers.dropna()"
   ]
  },
  {
   "cell_type": "markdown",
   "id": "b3b1078f-231d-4aea-a3f6-5d410ae443d1",
   "metadata": {},
   "source": [
    "Jeu de données pour les usagers de 125789 lignes pour 16 colonnes.\n",
    "Chaque ligne correspond à un usager différent donc nous pouvons supprimer la colonne \"id_usager\".\n",
    "Un même accident (\"Num_Acc\") peut concerner plusieurs véhicules (\"id_vehicule\" et \"num_veh\") => on peut supprimer \"num_veh\"\n",
    "Un même véhicule peut concerner plusieurs usagers.\n",
    "Il peut y avoir jusqu'à 3 équipements de sécurité de renseignés par usager. \n",
    "On supprime les valeurs -1 qui ne sont pas attendues."
   ]
  },
  {
   "cell_type": "code",
   "execution_count": null,
   "id": "d3c53486-1c6c-4936-b8d0-4619957beed2",
   "metadata": {},
   "outputs": [],
   "source": []
  },
  {
   "cell_type": "code",
   "execution_count": null,
   "id": "83b0818d-1a68-4586-a3da-c1c604e977b6",
   "metadata": {},
   "outputs": [],
   "source": []
  },
  {
   "cell_type": "markdown",
   "id": "19c28e81-277c-4bf0-b8b8-538ba761c1fa",
   "metadata": {},
   "source": [
    "### Suppression des colonnes inutiles\n"
   ]
  },
  {
   "cell_type": "code",
   "execution_count": 16,
   "id": "82a719e3-a60c-4993-9526-b5d153c920a8",
   "metadata": {},
   "outputs": [
    {
     "name": "stderr",
     "output_type": "stream",
     "text": [
      "C:\\Users\\peggy\\AppData\\Local\\Temp\\ipykernel_24532\\2549053182.py:1: SettingWithCopyWarning: \n",
      "A value is trying to be set on a copy of a slice from a DataFrame\n",
      "\n",
      "See the caveats in the documentation: https://pandas.pydata.org/pandas-docs/stable/user_guide/indexing.html#returning-a-view-versus-a-copy\n",
      "  df_usagers.drop(['id_usager'], axis = 1, inplace = True)\n"
     ]
    }
   ],
   "source": [
    "df_usagers.drop(['id_usager'], axis = 1, inplace = True)"
   ]
  },
  {
   "cell_type": "code",
   "execution_count": 17,
   "id": "f7827f69-7357-4ba9-b574-770688e4eede",
   "metadata": {},
   "outputs": [
    {
     "name": "stderr",
     "output_type": "stream",
     "text": [
      "C:\\Users\\peggy\\AppData\\Local\\Temp\\ipykernel_24532\\3851949133.py:1: SettingWithCopyWarning: \n",
      "A value is trying to be set on a copy of a slice from a DataFrame\n",
      "\n",
      "See the caveats in the documentation: https://pandas.pydata.org/pandas-docs/stable/user_guide/indexing.html#returning-a-view-versus-a-copy\n",
      "  df_usagers.drop(['num_veh'], axis = 1, inplace = True)\n"
     ]
    }
   ],
   "source": [
    "df_usagers.drop(['num_veh'], axis = 1, inplace = True)"
   ]
  },
  {
   "cell_type": "code",
   "execution_count": 18,
   "id": "81ac5753-f4f5-4125-9bd5-3951631eb1b6",
   "metadata": {},
   "outputs": [
    {
     "data": {
      "text/html": [
       "<div>\n",
       "<style scoped>\n",
       "    .dataframe tbody tr th:only-of-type {\n",
       "        vertical-align: middle;\n",
       "    }\n",
       "\n",
       "    .dataframe tbody tr th {\n",
       "        vertical-align: top;\n",
       "    }\n",
       "\n",
       "    .dataframe thead th {\n",
       "        text-align: right;\n",
       "    }\n",
       "</style>\n",
       "<table border=\"1\" class=\"dataframe\">\n",
       "  <thead>\n",
       "    <tr style=\"text-align: right;\">\n",
       "      <th></th>\n",
       "      <th>Num_Acc</th>\n",
       "      <th>id_vehicule</th>\n",
       "      <th>place</th>\n",
       "      <th>catu</th>\n",
       "      <th>grav</th>\n",
       "      <th>sexe</th>\n",
       "      <th>an_nais</th>\n",
       "      <th>trajet</th>\n",
       "      <th>secu1</th>\n",
       "      <th>secu2</th>\n",
       "      <th>secu3</th>\n",
       "      <th>locp</th>\n",
       "      <th>actp</th>\n",
       "      <th>etatp</th>\n",
       "    </tr>\n",
       "  </thead>\n",
       "  <tbody>\n",
       "    <tr>\n",
       "      <th>0</th>\n",
       "      <td>202300000001</td>\n",
       "      <td>155 680 557</td>\n",
       "      <td>1</td>\n",
       "      <td>1</td>\n",
       "      <td>4</td>\n",
       "      <td>1</td>\n",
       "      <td>1978.0</td>\n",
       "      <td>5</td>\n",
       "      <td>2</td>\n",
       "      <td>0</td>\n",
       "      <td>-1</td>\n",
       "      <td>-1</td>\n",
       "      <td>-1</td>\n",
       "      <td>-1</td>\n",
       "    </tr>\n",
       "    <tr>\n",
       "      <th>1</th>\n",
       "      <td>202300000002</td>\n",
       "      <td>155 680 556</td>\n",
       "      <td>1</td>\n",
       "      <td>1</td>\n",
       "      <td>1</td>\n",
       "      <td>2</td>\n",
       "      <td>1997.0</td>\n",
       "      <td>9</td>\n",
       "      <td>1</td>\n",
       "      <td>0</td>\n",
       "      <td>-1</td>\n",
       "      <td>-1</td>\n",
       "      <td>-1</td>\n",
       "      <td>-1</td>\n",
       "    </tr>\n",
       "    <tr>\n",
       "      <th>2</th>\n",
       "      <td>202300000002</td>\n",
       "      <td>155 680 556</td>\n",
       "      <td>10</td>\n",
       "      <td>3</td>\n",
       "      <td>3</td>\n",
       "      <td>1</td>\n",
       "      <td>1997.0</td>\n",
       "      <td>9</td>\n",
       "      <td>0</td>\n",
       "      <td>-1</td>\n",
       "      <td>-1</td>\n",
       "      <td>2</td>\n",
       "      <td>3</td>\n",
       "      <td>1</td>\n",
       "    </tr>\n",
       "    <tr>\n",
       "      <th>3</th>\n",
       "      <td>202300000003</td>\n",
       "      <td>155 680 554</td>\n",
       "      <td>1</td>\n",
       "      <td>1</td>\n",
       "      <td>3</td>\n",
       "      <td>1</td>\n",
       "      <td>1987.0</td>\n",
       "      <td>0</td>\n",
       "      <td>2</td>\n",
       "      <td>6</td>\n",
       "      <td>0</td>\n",
       "      <td>0</td>\n",
       "      <td>0</td>\n",
       "      <td>-1</td>\n",
       "    </tr>\n",
       "    <tr>\n",
       "      <th>4</th>\n",
       "      <td>202300000003</td>\n",
       "      <td>155 680 555</td>\n",
       "      <td>1</td>\n",
       "      <td>1</td>\n",
       "      <td>1</td>\n",
       "      <td>2</td>\n",
       "      <td>1984.0</td>\n",
       "      <td>0</td>\n",
       "      <td>1</td>\n",
       "      <td>0</td>\n",
       "      <td>0</td>\n",
       "      <td>0</td>\n",
       "      <td>0</td>\n",
       "      <td>-1</td>\n",
       "    </tr>\n",
       "  </tbody>\n",
       "</table>\n",
       "</div>"
      ],
      "text/plain": [
       "        Num_Acc  id_vehicule  place  catu  grav  sexe  an_nais  trajet  secu1  \\\n",
       "0  202300000001  155 680 557      1     1     4     1   1978.0       5      2   \n",
       "1  202300000002  155 680 556      1     1     1     2   1997.0       9      1   \n",
       "2  202300000002  155 680 556     10     3     3     1   1997.0       9      0   \n",
       "3  202300000003  155 680 554      1     1     3     1   1987.0       0      2   \n",
       "4  202300000003  155 680 555      1     1     1     2   1984.0       0      1   \n",
       "\n",
       "   secu2  secu3  locp actp  etatp  \n",
       "0      0     -1    -1   -1     -1  \n",
       "1      0     -1    -1   -1     -1  \n",
       "2     -1     -1     2    3      1  \n",
       "3      6      0     0    0     -1  \n",
       "4      0      0     0    0     -1  "
      ]
     },
     "execution_count": 18,
     "metadata": {},
     "output_type": "execute_result"
    }
   ],
   "source": [
    "df_usagers.head()"
   ]
  },
  {
   "cell_type": "markdown",
   "id": "9e2a9667-8d3c-45f4-b6ac-d8ededa43b95",
   "metadata": {},
   "source": [
    "### Observation des variables"
   ]
  },
  {
   "cell_type": "code",
   "execution_count": 20,
   "id": "c8c3b009-19b3-46b5-b9a1-3c26964f8e4b",
   "metadata": {},
   "outputs": [],
   "source": [
    "# Variable 'place' => place dans la voiture"
   ]
  },
  {
   "cell_type": "code",
   "execution_count": 21,
   "id": "dce2db17-4815-4371-97a9-8d19b48c9526",
   "metadata": {},
   "outputs": [
    {
     "data": {
      "text/plain": [
       "place\n",
       " 1     0.737521\n",
       " 2     0.114091\n",
       " 10    0.077230\n",
       " 3     0.019636\n",
       " 4     0.018427\n",
       " 9     0.010618\n",
       " 7     0.009887\n",
       " 5     0.006202\n",
       " 8     0.004732\n",
       " 6     0.001640\n",
       "-1     0.000016\n",
       "Name: proportion, dtype: float64"
      ]
     },
     "execution_count": 21,
     "metadata": {},
     "output_type": "execute_result"
    }
   ],
   "source": [
    "#Place occupée dans le véhicule\n",
    "df_usagers['place'].value_counts(normalize = True)"
   ]
  },
  {
   "cell_type": "code",
   "execution_count": 22,
   "id": "3825bab7-c8b5-4687-b666-6c460b0df678",
   "metadata": {},
   "outputs": [
    {
     "name": "stderr",
     "output_type": "stream",
     "text": [
      "C:\\Users\\peggy\\AppData\\Local\\Temp\\ipykernel_24532\\4232736929.py:4: SettingWithCopyWarning: \n",
      "A value is trying to be set on a copy of a slice from a DataFrame.\n",
      "Try using .loc[row_indexer,col_indexer] = value instead\n",
      "\n",
      "See the caveats in the documentation: https://pandas.pydata.org/pandas-docs/stable/user_guide/indexing.html#returning-a-view-versus-a-copy\n",
      "  df_usagers['place'] = df_usagers['place'].replace([5, 6, 7, 8, 9], 'autre')\n"
     ]
    }
   ],
   "source": [
    "# Réduction du nombre de classe => On conserve le conducteur, le passager avant, les piétons liés à l'accident et les 2 passagers arrières. \n",
    "# On regroupe les autres passagers (des véhicules 9 places par ex) en 1 seule catégorie \"autre\"\n",
    "# Affectation directe sans chaine\n",
    "df_usagers['place'] = df_usagers['place'].replace([5, 6, 7, 8, 9], 'autre')"
   ]
  },
  {
   "cell_type": "code",
   "execution_count": 23,
   "id": "f143b49b-099d-49c7-bfc2-72df6c35adc6",
   "metadata": {},
   "outputs": [],
   "source": [
    "# Suppression des -1\n",
    "df_usagers = df_usagers[df_usagers['place']!= -1]"
   ]
  },
  {
   "cell_type": "code",
   "execution_count": 24,
   "id": "e3b854b3-8a83-45a8-a3b2-1c29feb3c0d6",
   "metadata": {},
   "outputs": [
    {
     "data": {
      "text/plain": [
       "place\n",
       "1        0.737533\n",
       "2        0.114093\n",
       "10       0.077231\n",
       "autre    0.033079\n",
       "3        0.019636\n",
       "4        0.018427\n",
       "Name: proportion, dtype: float64"
      ]
     },
     "execution_count": 24,
     "metadata": {},
     "output_type": "execute_result"
    }
   ],
   "source": [
    "df_usagers['place'].value_counts(normalize = True)"
   ]
  },
  {
   "cell_type": "code",
   "execution_count": null,
   "id": "3ef1696a-06aa-4a8b-9205-b1200ae2c8fc",
   "metadata": {},
   "outputs": [],
   "source": []
  },
  {
   "cell_type": "code",
   "execution_count": 25,
   "id": "ea50df85-7fe1-40a2-ae34-ac15df5b16ce",
   "metadata": {},
   "outputs": [
    {
     "data": {
      "text/plain": [
       "catu\n",
       "1    0.737712\n",
       "2    0.185057\n",
       "3    0.077231\n",
       "Name: proportion, dtype: float64"
      ]
     },
     "execution_count": 25,
     "metadata": {},
     "output_type": "execute_result"
    }
   ],
   "source": [
    "# Catégorie d'usager\n",
    "df_usagers['catu'].value_counts(normalize = True)"
   ]
  },
  {
   "cell_type": "code",
   "execution_count": 26,
   "id": "dcff3905-9727-4e0e-bc88-3aba8772f614",
   "metadata": {},
   "outputs": [],
   "source": [
    "# Les proportions étant sensiblement les mêmes que pour la variable \"place\", on supprime la colonne \"catu\"\n",
    "df_usagers.drop('catu', axis = 1, inplace = True)"
   ]
  },
  {
   "cell_type": "code",
   "execution_count": null,
   "id": "f99356d2-e1c1-4243-aa16-cc8cea8da96c",
   "metadata": {},
   "outputs": [],
   "source": []
  },
  {
   "cell_type": "code",
   "execution_count": 27,
   "id": "35e8e7d3-07e4-4a8b-ac6a-00afa3c4fc42",
   "metadata": {},
   "outputs": [
    {
     "data": {
      "text/plain": [
       "grav\n",
       "1    0.413340\n",
       "4    0.402641\n",
       "3    0.156434\n",
       "2    0.027584\n",
       "Name: proportion, dtype: float64"
      ]
     },
     "execution_count": 27,
     "metadata": {},
     "output_type": "execute_result"
    }
   ],
   "source": [
    "# Gravité de blessures de l'usager\n",
    "df_usagers['grav'].value_counts(normalize = True)"
   ]
  },
  {
   "cell_type": "code",
   "execution_count": 28,
   "id": "3b07f0e7-8d08-4e4f-988a-e2f28d444c0a",
   "metadata": {},
   "outputs": [],
   "source": [
    "# Target ? Reduction en 2 classes \"grave\" \"pas grave\" ??"
   ]
  },
  {
   "cell_type": "code",
   "execution_count": null,
   "id": "b4932c9e-737a-4792-b29f-9bb430c89f63",
   "metadata": {},
   "outputs": [],
   "source": []
  },
  {
   "cell_type": "code",
   "execution_count": 29,
   "id": "ff7eeeaf-ab62-4ca3-a005-e63f6f14e748",
   "metadata": {},
   "outputs": [
    {
     "data": {
      "text/plain": [
       "sexe\n",
       " 1    0.680621\n",
       " 2    0.319306\n",
       "-1    0.000073\n",
       "Name: proportion, dtype: float64"
      ]
     },
     "execution_count": 29,
     "metadata": {},
     "output_type": "execute_result"
    }
   ],
   "source": [
    "df_usagers['sexe'].value_counts(normalize = True)"
   ]
  },
  {
   "cell_type": "code",
   "execution_count": 30,
   "id": "2912a15f-6e4e-4c74-81d9-155cade4f5cf",
   "metadata": {},
   "outputs": [],
   "source": [
    "# Suppression des -1\n",
    "df_usagers = df_usagers[df_usagers['sexe']!= -1]"
   ]
  },
  {
   "cell_type": "code",
   "execution_count": null,
   "id": "115581cd-5b4c-43fb-8c53-7cf27fa7fb1b",
   "metadata": {},
   "outputs": [],
   "source": []
  },
  {
   "cell_type": "code",
   "execution_count": 31,
   "id": "8053fbd5-f301-4475-a4a7-2fe64b06da1f",
   "metadata": {},
   "outputs": [
    {
     "data": {
      "text/plain": [
       "array([1978., 1997., 1987., 1984., 2001., 1995., 1968., 1956., 1985.,\n",
       "       2003., 1962., 1988., 1975., 1979., 2020., 1980., 1981., 1999.,\n",
       "       1953., 2010., 1977., 1996., 1982., 1994., 1992., 2022., 1998.,\n",
       "       2004., 1974., 1958., 2002., 2015., 2011., 1990., 2007., 2009.,\n",
       "       2008., 1991., 1967., 2000., 2006., 1955., 1969., 1963., 1946.,\n",
       "       1973., 1947., 1942., 1989., 1964., 1993., 1986., 1957., 1961.,\n",
       "       1932., 1929., 1972., 2016., 1928., 1965., 1943., 1971., 1983.,\n",
       "       1970., 1960., 2014., 1976., 1939., 2005., 1950., 1945., 1959.,\n",
       "       1952., 1951., 1941., 1954., 2019., 1937., 1936., 1934., 1944.,\n",
       "       1966., 2017., 1940., 1948., 2012., 2023., 2013., 1949., 1933.,\n",
       "       2018., 1935., 1930., 2021., 1931., 1938., 1927., 1923., 1926.,\n",
       "       1924., 1925., 1921., 1922., 1917., 1920., 1919., 1913.])"
      ]
     },
     "execution_count": 31,
     "metadata": {},
     "output_type": "execute_result"
    }
   ],
   "source": [
    "# Année de naissance\n",
    "df_usagers['an_nais'].unique()"
   ]
  },
  {
   "cell_type": "code",
   "execution_count": 32,
   "id": "8958ad75-ae8a-43f2-be2e-0c6f30421f9d",
   "metadata": {},
   "outputs": [],
   "source": [
    "# On fait des classes pour les années de naissance"
   ]
  },
  {
   "cell_type": "code",
   "execution_count": 33,
   "id": "c52075d9-6623-4431-a0ad-b2b7f8152efc",
   "metadata": {},
   "outputs": [],
   "source": [
    "for i, row in df_usagers.iterrows() :\n",
    "    if row['an_nais'] <= 1953 :\n",
    "        df_usagers.at[i,'années'] = \"1910 - 1953\"\n",
    "    elif row['an_nais'] <= 1973 :\n",
    "        df_usagers.at[i,'années'] = \"1954 - 1973\"\n",
    "    elif row['an_nais'] <= 1999 :\n",
    "        df_usagers.at[i,'années'] = \"1974 - 1999\"\n",
    "    elif row['an_nais'] >= 2000 :\n",
    "        df_usagers.at[i,'années'] = \"2000 - 2023\"\n",
    "    \n",
    "    \n"
   ]
  },
  {
   "cell_type": "code",
   "execution_count": 34,
   "id": "10ab5a22-e266-47dc-a2e5-6eb2825495af",
   "metadata": {},
   "outputs": [
    {
     "data": {
      "text/plain": [
       "array(['1974 - 1999', '2000 - 2023', '1954 - 1973', '1910 - 1953'],\n",
       "      dtype=object)"
      ]
     },
     "execution_count": 34,
     "metadata": {},
     "output_type": "execute_result"
    }
   ],
   "source": [
    "df_usagers['années'].unique()"
   ]
  },
  {
   "cell_type": "code",
   "execution_count": null,
   "id": "dc0425bc-e8ee-4ae6-96e8-93a4a8d21cce",
   "metadata": {},
   "outputs": [],
   "source": []
  },
  {
   "cell_type": "code",
   "execution_count": 35,
   "id": "9d067d97-c12d-4be0-8ff0-cd9ee1af0ef7",
   "metadata": {},
   "outputs": [
    {
     "data": {
      "text/plain": [
       "trajet\n",
       " 5    0.374452\n",
       " 0    0.268566\n",
       " 1    0.133731\n",
       " 4    0.089260\n",
       " 9    0.079323\n",
       " 3    0.029193\n",
       " 2    0.024241\n",
       "-1    0.001234\n",
       "Name: proportion, dtype: float64"
      ]
     },
     "execution_count": 35,
     "metadata": {},
     "output_type": "execute_result"
    }
   ],
   "source": [
    "# Motif du déplacement\n",
    "df_usagers['trajet'].value_counts(normalize = True)"
   ]
  },
  {
   "cell_type": "code",
   "execution_count": 36,
   "id": "713830a7-1ef4-437b-87c6-3bf23c8ae1c9",
   "metadata": {},
   "outputs": [],
   "source": [
    "# les motifs de déplacement non connus (classe 0, -1 et 9) représentent 36% \n",
    "# Suppression de la colonne\n",
    "df_usagers.drop('trajet', axis = 1, inplace = True)"
   ]
  },
  {
   "cell_type": "code",
   "execution_count": null,
   "id": "0627f707-b5e4-4f72-a6c7-f733d5e2e588",
   "metadata": {},
   "outputs": [],
   "source": []
  },
  {
   "cell_type": "code",
   "execution_count": null,
   "id": "f5c7faf9-bb70-4103-9f78-e018937e6c92",
   "metadata": {},
   "outputs": [],
   "source": []
  },
  {
   "cell_type": "code",
   "execution_count": 37,
   "id": "ace2fb21-91e5-4a23-bbde-54647a1d010c",
   "metadata": {},
   "outputs": [
    {
     "data": {
      "text/plain": [
       "secu1\n",
       " 1    0.591338\n",
       " 2    0.178519\n",
       " 8    0.122569\n",
       " 0    0.096785\n",
       " 3    0.005894\n",
       "-1    0.002038\n",
       " 6    0.001088\n",
       " 9    0.000999\n",
       " 4    0.000544\n",
       " 5    0.000219\n",
       " 7    0.000008\n",
       "Name: proportion, dtype: float64"
      ]
     },
     "execution_count": 37,
     "metadata": {},
     "output_type": "execute_result"
    }
   ],
   "source": [
    "# Equipement de sécurité\n",
    "df_usagers['secu1'].value_counts(normalize = True)"
   ]
  },
  {
   "cell_type": "code",
   "execution_count": 38,
   "id": "1fe3aec1-f101-4cdc-b32f-7f5d43f0ac22",
   "metadata": {},
   "outputs": [],
   "source": [
    "# Réduction du nombre de classe\n",
    "df_usagers['secu1'] = df_usagers['secu1'].replace(8, -1)\n",
    "df_usagers['secu1'] = df_usagers['secu1'].replace([3, 4, 5, 6, 7], 9)"
   ]
  },
  {
   "cell_type": "code",
   "execution_count": 39,
   "id": "06f4678c-4cb8-408a-85a3-31cadf0d7a55",
   "metadata": {},
   "outputs": [],
   "source": [
    "# Suppression des -1\n",
    "df_usagers['secu1'] = df_usagers['secu1'].replace([-1,9], 8)"
   ]
  },
  {
   "cell_type": "code",
   "execution_count": 40,
   "id": "14921951-de57-4eca-8426-bc7b34adc57a",
   "metadata": {},
   "outputs": [
    {
     "data": {
      "text/plain": [
       "secu1\n",
       "1    0.591338\n",
       "2    0.178519\n",
       "8    0.133358\n",
       "0    0.096785\n",
       "Name: proportion, dtype: float64"
      ]
     },
     "execution_count": 40,
     "metadata": {},
     "output_type": "execute_result"
    }
   ],
   "source": [
    "df_usagers['secu1'].value_counts(normalize = True)"
   ]
  },
  {
   "cell_type": "code",
   "execution_count": null,
   "id": "f91cbe43-c260-43c0-a369-919fdf76a42d",
   "metadata": {},
   "outputs": [],
   "source": []
  },
  {
   "cell_type": "code",
   "execution_count": null,
   "id": "c145daa9-b880-45ca-8fc5-ab638e593c31",
   "metadata": {},
   "outputs": [],
   "source": []
  },
  {
   "cell_type": "code",
   "execution_count": 41,
   "id": "3aaea953-6bed-431a-a905-59cfaa7587fa",
   "metadata": {},
   "outputs": [
    {
     "data": {
      "text/plain": [
       "secu2\n",
       "-1    0.431125\n",
       " 0    0.361341\n",
       " 6    0.096444\n",
       " 8    0.079372\n",
       " 4    0.012380\n",
       " 5    0.009368\n",
       " 9    0.003791\n",
       " 1    0.002509\n",
       " 3    0.001486\n",
       " 7    0.001145\n",
       " 2    0.001039\n",
       "Name: proportion, dtype: float64"
      ]
     },
     "execution_count": 41,
     "metadata": {},
     "output_type": "execute_result"
    }
   ],
   "source": [
    "df_usagers['secu2'].value_counts(normalize = True)"
   ]
  },
  {
   "cell_type": "code",
   "execution_count": 42,
   "id": "1cb67d56-708d-4e54-8969-e47268c53a4f",
   "metadata": {},
   "outputs": [],
   "source": [
    "# Suppression de la colonne car trop d'inconnues\n",
    "df_usagers.drop('secu2', axis = 1, inplace = True)"
   ]
  },
  {
   "cell_type": "code",
   "execution_count": null,
   "id": "f54c2562-b036-495a-88e6-6be7661dc20c",
   "metadata": {},
   "outputs": [],
   "source": []
  },
  {
   "cell_type": "code",
   "execution_count": 43,
   "id": "a069ed1d-e1dd-48f9-af7b-374f096467fc",
   "metadata": {},
   "outputs": [
    {
     "data": {
      "text/plain": [
       "secu3\n",
       "-1    0.981702\n",
       " 9    0.008305\n",
       " 0    0.006219\n",
       " 1    0.001616\n",
       " 8    0.000909\n",
       " 6    0.000649\n",
       " 2    0.000195\n",
       " 4    0.000179\n",
       " 5    0.000138\n",
       " 3    0.000065\n",
       " 7    0.000024\n",
       "Name: proportion, dtype: float64"
      ]
     },
     "execution_count": 43,
     "metadata": {},
     "output_type": "execute_result"
    }
   ],
   "source": [
    "df_usagers['secu3'].value_counts(normalize = True)"
   ]
  },
  {
   "cell_type": "code",
   "execution_count": 44,
   "id": "16f2535b-88e7-4384-9c7b-b084e7bdf5de",
   "metadata": {},
   "outputs": [],
   "source": [
    "# Suppression de la colonne car trop d'inconnues\n",
    "df_usagers.drop('secu3', axis = 1, inplace = True)"
   ]
  },
  {
   "cell_type": "code",
   "execution_count": null,
   "id": "6eca980e-2c1d-4f7e-a0c1-80f24fd9cc28",
   "metadata": {},
   "outputs": [],
   "source": []
  },
  {
   "cell_type": "code",
   "execution_count": 45,
   "id": "09fdbf73-6b7b-4b9a-8d7e-b5a1f74257a9",
   "metadata": {},
   "outputs": [
    {
     "data": {
      "text/plain": [
       "locp\n",
       "-1    0.495024\n",
       " 0    0.423056\n",
       " 3    0.026522\n",
       " 2    0.016042\n",
       " 4    0.012413\n",
       " 1    0.011796\n",
       " 5    0.006819\n",
       " 9    0.004278\n",
       " 6    0.002728\n",
       " 8    0.001234\n",
       " 7    0.000089\n",
       "Name: proportion, dtype: float64"
      ]
     },
     "execution_count": 45,
     "metadata": {},
     "output_type": "execute_result"
    }
   ],
   "source": [
    "df_usagers['locp'].value_counts(normalize = True)"
   ]
  },
  {
   "cell_type": "code",
   "execution_count": 46,
   "id": "1125363b-02d7-4d92-bf7d-4e911ffbe489",
   "metadata": {},
   "outputs": [],
   "source": [
    "# Suppression de la colonne car trop d'inconnues\n",
    "df_usagers.drop('locp', axis = 1, inplace = True)"
   ]
  },
  {
   "cell_type": "code",
   "execution_count": null,
   "id": "1818be83-e37e-4cde-aee4-2a474183bb4e",
   "metadata": {},
   "outputs": [],
   "source": []
  },
  {
   "cell_type": "code",
   "execution_count": 47,
   "id": "d9cf6fd9-635b-469d-a451-11ca02082e17",
   "metadata": {},
   "outputs": [
    {
     "data": {
      "text/plain": [
       "actp\n",
       " -1    0.494407\n",
       "0      0.423697\n",
       "3      0.060367\n",
       "9      0.005626\n",
       "1      0.005317\n",
       "B      0.003028\n",
       "5      0.002809\n",
       "2      0.002557\n",
       "A      0.000958\n",
       "4      0.000731\n",
       "6      0.000235\n",
       "7      0.000195\n",
       "8      0.000073\n",
       "Name: proportion, dtype: float64"
      ]
     },
     "execution_count": 47,
     "metadata": {},
     "output_type": "execute_result"
    }
   ],
   "source": [
    "df_usagers['actp'].value_counts(normalize = True)"
   ]
  },
  {
   "cell_type": "code",
   "execution_count": 48,
   "id": "905b1740-f7e2-4469-8d44-3063b4323fe1",
   "metadata": {},
   "outputs": [],
   "source": [
    "# Suppression de la colonne car trop d'inconnues\n",
    "df_usagers.drop('actp', axis = 1, inplace = True)"
   ]
  },
  {
   "cell_type": "code",
   "execution_count": null,
   "id": "239426e2-03c4-440b-9646-93be4574cb8c",
   "metadata": {},
   "outputs": [],
   "source": []
  },
  {
   "cell_type": "code",
   "execution_count": 49,
   "id": "ff2dce9c-5e53-4959-a62c-0d83a64f375f",
   "metadata": {},
   "outputs": [
    {
     "data": {
      "text/plain": [
       "etatp\n",
       "-1    0.918112\n",
       " 1    0.061577\n",
       " 2    0.016967\n",
       " 3    0.003345\n",
       "Name: proportion, dtype: float64"
      ]
     },
     "execution_count": 49,
     "metadata": {},
     "output_type": "execute_result"
    }
   ],
   "source": [
    "df_usagers['etatp'].value_counts(normalize = True)"
   ]
  },
  {
   "cell_type": "code",
   "execution_count": 50,
   "id": "b206f902-d8f7-4a76-98d8-e8abff2f1a24",
   "metadata": {},
   "outputs": [],
   "source": [
    "# Suppression de la colonne car trop d'inconnues\n",
    "df_usagers.drop('etatp', axis = 1, inplace = True)"
   ]
  },
  {
   "cell_type": "code",
   "execution_count": null,
   "id": "e853bc21-60ff-4b80-83e4-ff92db382349",
   "metadata": {},
   "outputs": [],
   "source": []
  },
  {
   "cell_type": "code",
   "execution_count": 51,
   "id": "785e19f6-bfc0-44dc-a475-2e3264dd1e13",
   "metadata": {},
   "outputs": [
    {
     "data": {
      "text/plain": [
       "(123180, 8)"
      ]
     },
     "execution_count": 51,
     "metadata": {},
     "output_type": "execute_result"
    }
   ],
   "source": [
    "df_usagers.shape\n"
   ]
  },
  {
   "cell_type": "code",
   "execution_count": 52,
   "id": "da3d6bc6-d447-40a3-9545-5b7051a08826",
   "metadata": {},
   "outputs": [],
   "source": [
    "#  Suppression de 2609 lignes et de 8 colonnes"
   ]
  },
  {
   "cell_type": "code",
   "execution_count": null,
   "id": "c1b587e4-8057-4274-84bc-6eb6c165aeb5",
   "metadata": {},
   "outputs": [],
   "source": []
  },
  {
   "cell_type": "code",
   "execution_count": null,
   "id": "1a4d5e35-fe49-412a-ac54-76ad194db76a",
   "metadata": {},
   "outputs": [],
   "source": []
  },
  {
   "cell_type": "markdown",
   "id": "43301c30-373b-43d8-bd7f-f270f1a01c17",
   "metadata": {},
   "source": [
    "## Exportation du dataframe nettoyé"
   ]
  },
  {
   "cell_type": "code",
   "execution_count": 54,
   "id": "28844446-3d70-46ea-a494-ba6d69290de3",
   "metadata": {},
   "outputs": [],
   "source": [
    "## Exportation du dataframe nettoyé\n",
    "df_usagers.to_csv('usagers_clean.csv', index=False)"
   ]
  },
  {
   "cell_type": "code",
   "execution_count": null,
   "id": "8c437d73-5cdd-4305-b816-f6c52d270869",
   "metadata": {},
   "outputs": [],
   "source": []
  },
  {
   "cell_type": "code",
   "execution_count": null,
   "id": "a4f5bc49-a5cc-45b4-bda2-66aaa35e6a53",
   "metadata": {},
   "outputs": [],
   "source": []
  },
  {
   "cell_type": "code",
   "execution_count": null,
   "id": "20d297c9-a36f-4db8-abcc-aed14f024d4f",
   "metadata": {},
   "outputs": [],
   "source": []
  },
  {
   "cell_type": "code",
   "execution_count": null,
   "id": "9395142c-b811-41be-80c3-1daeb4c4ccd6",
   "metadata": {},
   "outputs": [],
   "source": []
  },
  {
   "cell_type": "code",
   "execution_count": null,
   "id": "be1f255e-2ea0-4018-b5ba-18cdd47fbef5",
   "metadata": {},
   "outputs": [],
   "source": []
  }
 ],
 "metadata": {
  "kernelspec": {
   "display_name": "Python 3 (ipykernel)",
   "language": "python",
   "name": "python3"
  },
  "language_info": {
   "codemirror_mode": {
    "name": "ipython",
    "version": 3
   },
   "file_extension": ".py",
   "mimetype": "text/x-python",
   "name": "python",
   "nbconvert_exporter": "python",
   "pygments_lexer": "ipython3",
   "version": "3.12.4"
  }
 },
 "nbformat": 4,
 "nbformat_minor": 5
}
